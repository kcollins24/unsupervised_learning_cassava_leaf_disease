{
 "cells": [
  {
   "cell_type": "code",
   "execution_count": 1,
   "id": "9bee701b",
   "metadata": {},
   "outputs": [],
   "source": [
    "%matplotlib inline\n",
    " \n",
    "import matplotlib.pyplot as plt\n",
    "import numpy as np\n",
    "import os\n",
    "\n",
    "import joblib\n",
    "from skimage.io import imread"
   ]
  },
  {
   "cell_type": "code",
   "execution_count": null,
   "id": "cf5aef49",
   "metadata": {},
   "outputs": [],
   "source": [
    "#testing clustering on a single image\n",
    "'''\n",
    "from sklearn.cluster import KMeans\n",
    "\n",
    "#img = X[1]\n",
    "img = imread(os.path.join(os.path.join(data_path, \"3956271103.jpg\")))\n",
    "img=cv2.resize(img,(240,180))\n",
    "img_convert = cv2.cvtColor(img, cv2.COLOR_BGR2RGB)\n",
    "img = img/255.0\n",
    "vectorized = img.reshape((-1,3))\n",
    "vectorized = np.float32(vectorized)\n",
    "\n",
    "kmeans=KMeans(n_clusters=3,random_state=0).fit(vectorized)\n",
    "vectorized2=vectorized.copy()\n",
    "for i in np.unique(kmeans.labels_):\n",
    "    vectorized2[kmeans.labels_==i,:]=kmeans.cluster_centers_[i]\n",
    "vectorized2=vectorized2.reshape(img.shape)\n",
    "\n",
    "plt.imshow(vectorized2)\n",
    "'''"
   ]
  },
  {
   "cell_type": "code",
   "execution_count": 2,
   "id": "39916b51",
   "metadata": {},
   "outputs": [],
   "source": [
    "from sklearn.cluster import KMeans\n",
    "import cv2\n",
    "\n",
    "# Define criteria = ( type, max_iter = 10 , epsilon = 1.0 )\n",
    "criteria = (cv2.TERM_CRITERIA_EPS + cv2.TERM_CRITERIA_MAX_ITER, 10, 1.0)\n",
    "K = 3\n",
    "attempts=10\n",
    "\n",
    "def cluster_img_colors(path, labels, K, attempts, criteria):\n",
    "    data={}\n",
    "    data['label']=[]\n",
    "    data['filename']=[]\n",
    "    data['data']=[]\n",
    "    \n",
    "    pklname= f\"leaf_images_cluster_1500k\"+str(K)+\".pkl\"\n",
    "    \n",
    "    image_counter={0:0,1:0,2:0,3:0,4:0}\n",
    "    images_done=0\n",
    "    \n",
    "    for file in os.listdir(path):\n",
    "        #to get equal number of labeled files\n",
    "        if image_counter[int(labels[file])]==300:\n",
    "            continue\n",
    "        else:\n",
    "            image_counter[int(labels[file])]+=1\n",
    "        img = imread(os.path.join(os.path.join(path, file)))\n",
    "        img=cv2.resize(img,(240,180))\n",
    "        img_convert = cv2.cvtColor(img, cv2.COLOR_BGR2RGB)\n",
    "        img = img/255.0\n",
    "        vectorized = img.reshape((-1,3))\n",
    "        vectorized = np.float32(vectorized)\n",
    "        kmeans=KMeans(n_clusters=K,random_state=0).fit(vectorized)\n",
    "        vectorized2=vectorized.copy()\n",
    "        for i in np.unique(kmeans.labels_):\n",
    "            vectorized2[kmeans.labels_==i,:]=kmeans.cluster_centers_[i]\n",
    "        vectorized2=vectorized2.reshape(img.shape)\n",
    "        #plt.imshow(vectorized2)\n",
    "        data['label'].append(int(labels[file]))\n",
    "        data['filename'].append(file)\n",
    "        data['data'].append(vectorized2)\n",
    "        images_done+=1\n",
    "        if images_done%50==0:\n",
    "            print('images_done: ',images_done)\n",
    "        if image_counter[0]+image_counter[1]+image_counter[2]+image_counter[3]+image_counter[4]==1500:\n",
    "            #if images_done%10000==0:\n",
    "            break\n",
    "        \n",
    "    joblib.dump(data, pklname)\n"
   ]
  },
  {
   "cell_type": "code",
   "execution_count": 3,
   "id": "b72f0758",
   "metadata": {},
   "outputs": [],
   "source": [
    "data_path = fr'{os.getenv(\"HOME\")}/kaggle/unsupervised_learning_cassava_leaf_disease/train_images'\n",
    "#os.listdir(data_path)\n",
    "\n",
    "labels_file=open('train.csv')\n",
    "labels_dict={}\n",
    "for line in labels_file:\n",
    "    line=line.strip().split(',')\n",
    "    labels_dict[line[0]]=line[1]\n",
    "    "
   ]
  },
  {
   "cell_type": "code",
   "execution_count": 4,
   "id": "71ef0720",
   "metadata": {},
   "outputs": [
    {
     "name": "stdout",
     "output_type": "stream",
     "text": [
      "images_done:  50\n",
      "images_done:  100\n",
      "images_done:  150\n",
      "images_done:  200\n",
      "images_done:  250\n",
      "images_done:  300\n",
      "images_done:  350\n",
      "images_done:  400\n",
      "images_done:  450\n",
      "images_done:  500\n",
      "images_done:  550\n",
      "images_done:  600\n",
      "images_done:  650\n",
      "images_done:  700\n",
      "images_done:  750\n",
      "images_done:  800\n",
      "images_done:  850\n",
      "images_done:  900\n",
      "images_done:  950\n",
      "images_done:  1000\n",
      "images_done:  1050\n",
      "images_done:  1100\n",
      "images_done:  1150\n",
      "images_done:  1200\n",
      "images_done:  1250\n",
      "images_done:  1300\n",
      "images_done:  1350\n",
      "images_done:  1400\n",
      "images_done:  1450\n",
      "images_done:  1500\n"
     ]
    }
   ],
   "source": [
    "cluster_img_colors(data_path, labels_dict, K, attempts, criteria)"
   ]
  },
  {
   "cell_type": "code",
   "execution_count": 5,
   "id": "7e630478",
   "metadata": {},
   "outputs": [
    {
     "name": "stdout",
     "output_type": "stream",
     "text": [
      "number of samples:  1500\n",
      "keys:  ['label', 'filename', 'data']\n",
      "image shape:  (180, 240, 3)\n",
      "labels: [0 1 2 3 4]\n",
      "(180, 240, 3) 3\n"
     ]
    }
   ],
   "source": [
    "from collections import Counter\n",
    " \n",
    "data = joblib.load(f\"leaf_images_cluster_1500k3.pkl\")\n",
    " \n",
    "print('number of samples: ', len(data['data']))\n",
    "print('keys: ', list(data.keys()))\n",
    "print('image shape: ', data['data'][0].shape)\n",
    "print('labels:', np.unique(data['label']))\n",
    " \n",
    "Counter(data['label'])\n",
    "\n",
    "print(data['data'][0].shape, K)\n"
   ]
  },
  {
   "cell_type": "code",
   "execution_count": 6,
   "id": "303a17b1",
   "metadata": {},
   "outputs": [],
   "source": [
    "X = np.array(data['data'])\n",
    "y = np.array(data['label'])"
   ]
  },
  {
   "cell_type": "code",
   "execution_count": 7,
   "id": "01408730",
   "metadata": {},
   "outputs": [
    {
     "data": {
      "text/plain": [
       "<matplotlib.image.AxesImage at 0x7fdc91c82f28>"
      ]
     },
     "execution_count": 7,
     "metadata": {},
     "output_type": "execute_result"
    },
    {
     "data": {
      "image/png": "[encoded data removed]",
      "text/plain": [
       "<Figure size 432x288 with 1 Axes>"
      ]
     },
     "metadata": {
      "needs_background": "light"
     },
     "output_type": "display_data"
    }
   ],
   "source": [
    "#show image to make sure clustering is working\n",
    "plt.imshow(X[7])"
   ]
  },
  {
   "cell_type": "code",
   "execution_count": 9,
   "id": "b77f4304",
   "metadata": {},
   "outputs": [],
   "source": [
    "from sklearn.model_selection import train_test_split\n",
    " \n",
    "X_train, X_test, y_train, y_test = train_test_split(\n",
    "    X.astype('float32'), \n",
    "    y, \n",
    "    test_size=0.2, \n",
    "    shuffle=True,\n",
    "    random_state=42,\n",
    "    stratify=y,\n",
    ")"
   ]
  },
  {
   "cell_type": "code",
   "execution_count": 10,
   "id": "1afcb32d",
   "metadata": {},
   "outputs": [
    {
     "data": {
      "image/png": "[encoded data removed]",
      "text/plain": [
       "<Figure size 432x288 with 1 Axes>"
      ]
     },
     "metadata": {
      "needs_background": "light"
     },
     "output_type": "display_data"
    }
   ],
   "source": [
    "def plot_bar(y, loc='left', relative=True):\n",
    "    width = 0.35\n",
    "    if loc == 'left':\n",
    "        n = -0.5\n",
    "    elif loc == 'right':\n",
    "        n = 0.5\n",
    "     \n",
    "    # calculate counts per type and sort, to ensure their order\n",
    "    unique, counts = np.unique(y, return_counts=True)\n",
    "    sorted_index = np.argsort(unique)\n",
    "    unique = unique[sorted_index]\n",
    "     \n",
    "    if relative:\n",
    "        # plot as a percentage\n",
    "        counts = 100*counts[sorted_index]/len(y)\n",
    "        ylabel_text = '% count'\n",
    "    else:\n",
    "        # plot counts\n",
    "        counts = counts[sorted_index]\n",
    "        ylabel_text = 'count'\n",
    "         \n",
    "    xtemp = np.arange(len(unique))\n",
    "     \n",
    "    plt.bar(xtemp + n*width, counts, align='center', alpha=.7, width=width)\n",
    "    plt.xticks(xtemp, unique, rotation=45)\n",
    "    plt.xlabel('label type')\n",
    "    plt.ylabel(ylabel_text)\n",
    " \n",
    "plt.suptitle('relative amount of photos per type')\n",
    "plot_bar(y_train, loc='left')\n",
    "plot_bar(y_test, loc='right')\n",
    "plt.legend([\n",
    "    'train ({0} photos)'.format(len(y_train)), \n",
    "    'test ({0} photos)'.format(len(y_test))\n",
    "]);"
   ]
  },
  {
   "cell_type": "code",
   "execution_count": 11,
   "id": "be1f9cf5",
   "metadata": {},
   "outputs": [
    {
     "name": "stdout",
     "output_type": "stream",
     "text": [
      "Model: \"sequential\"\n",
      "_________________________________________________________________\n",
      "Layer (type)                 Output Shape              Param #   \n",
      "=================================================================\n",
      "conv2d (Conv2D)              (None, 180, 240, 32)      896       \n",
      "_________________________________________________________________\n",
      "activation (Activation)      (None, 180, 240, 32)      0         \n",
      "_________________________________________________________________\n",
      "conv2d_1 (Conv2D)            (None, 178, 238, 32)      9248      \n",
      "_________________________________________________________________\n",
      "activation_1 (Activation)    (None, 178, 238, 32)      0         \n",
      "_________________________________________________________________\n",
      "max_pooling2d (MaxPooling2D) (None, 89, 119, 32)       0         \n",
      "_________________________________________________________________\n",
      "dropout (Dropout)            (None, 89, 119, 32)       0         \n",
      "_________________________________________________________________\n",
      "conv2d_2 (Conv2D)            (None, 89, 119, 64)       18496     \n",
      "_________________________________________________________________\n",
      "activation_2 (Activation)    (None, 89, 119, 64)       0         \n",
      "_________________________________________________________________\n",
      "conv2d_3 (Conv2D)            (None, 87, 117, 64)       36928     \n",
      "_________________________________________________________________\n",
      "activation_3 (Activation)    (None, 87, 117, 64)       0         \n",
      "_________________________________________________________________\n",
      "max_pooling2d_1 (MaxPooling2 (None, 43, 58, 64)        0         \n",
      "_________________________________________________________________\n",
      "dropout_1 (Dropout)          (None, 43, 58, 64)        0         \n",
      "_________________________________________________________________\n",
      "flatten (Flatten)            (None, 159616)            0         \n",
      "_________________________________________________________________\n",
      "dense (Dense)                (None, 512)               81723904  \n",
      "_________________________________________________________________\n",
      "activation_4 (Activation)    (None, 512)               0         \n",
      "_________________________________________________________________\n",
      "dropout_2 (Dropout)          (None, 512)               0         \n",
      "_________________________________________________________________\n",
      "dense_1 (Dense)              (None, 5)                 2565      \n",
      "_________________________________________________________________\n",
      "activation_5 (Activation)    (None, 5)                 0         \n",
      "=================================================================\n",
      "Total params: 81,792,037\n",
      "Trainable params: 81,792,037\n",
      "Non-trainable params: 0\n",
      "_________________________________________________________________\n"
     ]
    }
   ],
   "source": [
    "from tensorflow import keras\n",
    "from tensorflow.keras.models import Sequential\n",
    "from tensorflow.keras.layers import Dense, Dropout, Activation, Flatten\n",
    "from tensorflow.keras.layers import Conv2D, MaxPooling2D\n",
    "\n",
    "num_classes=5\n",
    "\n",
    "model1=Sequential()\n",
    "model1.add(Conv2D(32,(3,3),padding='same',input_shape=X_train.shape[1:]))\n",
    "model1.add(Activation('relu'))\n",
    "model1.add(Conv2D(32,(3,3)))\n",
    "model1.add(Activation('relu'))\n",
    "model1.add(MaxPooling2D(pool_size=(2,2)))\n",
    "model1.add(Dropout(0.25))\n",
    "\n",
    "model1.add(Conv2D(64,(3,3),padding='same'))\n",
    "model1.add(Activation('relu'))\n",
    "model1.add(Conv2D(64,(3,3)))\n",
    "model1.add(Activation('relu'))\n",
    "model1.add(MaxPooling2D(pool_size=(2,2)))\n",
    "model1.add(Dropout(0.25))\n",
    "\n",
    "model1.add(Flatten())\n",
    "model1.add(Dense(512))\n",
    "model1.add(Activation('relu'))\n",
    "model1.add(Dropout(0.5))\n",
    "model1.add(Dense(num_classes))\n",
    "model1.add(Activation('softmax'))\n",
    "\n",
    "model1.summary()"
   ]
  },
  {
   "cell_type": "code",
   "execution_count": 13,
   "id": "8cb31d7d",
   "metadata": {},
   "outputs": [
    {
     "name": "stdout",
     "output_type": "stream",
     "text": [
      "Epoch 1/5\n",
      "38/38 [==============================] - 65s 2s/step - loss: 0.5497 - accuracy: 0.8967 - val_loss: 2.6611 - val_accuracy: 0.2967\n",
      "Epoch 2/5\n",
      "38/38 [==============================] - 67s 2s/step - loss: 0.1318 - accuracy: 0.9592 - val_loss: 6.2667 - val_accuracy: 0.2667\n",
      "Epoch 3/5\n",
      "38/38 [==============================] - 69s 2s/step - loss: 0.1676 - accuracy: 0.9558 - val_loss: 2.5568 - val_accuracy: 0.2900\n",
      "Epoch 4/5\n",
      "38/38 [==============================] - 70s 2s/step - loss: 0.0381 - accuracy: 0.9900 - val_loss: 3.3200 - val_accuracy: 0.2667\n",
      "Epoch 5/5\n",
      "38/38 [==============================] - 70s 2s/step - loss: 0.1592 - accuracy: 0.9742 - val_loss: 4.3109 - val_accuracy: 0.2767\n"
     ]
    },
    {
     "data": {
      "text/plain": [
       "<keras.callbacks.History at 0x7fdbd709dfd0>"
      ]
     },
     "execution_count": 13,
     "metadata": {},
     "output_type": "execute_result"
    }
   ],
   "source": [
    "batch_size=32\n",
    "opt_2=keras.optimizers.RMSprop(learning_rate=0.0005)\n",
    "model1.compile(loss='sparse_categorical_crossentropy',optimizer=opt_2,metrics=['accuracy'])\n",
    "model1.fit(X_train,y_train,batch_size=batch_size,epochs=5,validation_data=(X_test,y_test),shuffle=True)"
   ]
  },
  {
   "cell_type": "code",
   "execution_count": 16,
   "id": "201c98ad",
   "metadata": {},
   "outputs": [
    {
     "ename": "AttributeError",
     "evalue": "'numpy.ndarray' object has no attribute 'mode'",
     "output_type": "error",
     "traceback": [
      "\u001b[0;31m---------------------------------------------------------------------------\u001b[0m",
      "\u001b[0;31mAttributeError\u001b[0m                            Traceback (most recent call last)",
      "\u001b[0;32m<ipython-input-16-d7c3c06688e2>\u001b[0m in \u001b[0;36m<module>\u001b[0;34m\u001b[0m\n\u001b[1;32m      1\u001b[0m \u001b[0my_pred\u001b[0m\u001b[0;34m=\u001b[0m\u001b[0mmodel1\u001b[0m\u001b[0;34m.\u001b[0m\u001b[0mpredict\u001b[0m\u001b[0;34m(\u001b[0m\u001b[0mX_test\u001b[0m\u001b[0;34m)\u001b[0m\u001b[0;34m\u001b[0m\u001b[0;34m\u001b[0m\u001b[0m\n\u001b[1;32m      2\u001b[0m \u001b[0my_pred\u001b[0m\u001b[0;34m=\u001b[0m\u001b[0my_pred\u001b[0m\u001b[0;34m.\u001b[0m\u001b[0margmax\u001b[0m\u001b[0;34m(\u001b[0m\u001b[0maxis\u001b[0m\u001b[0;34m=\u001b[0m\u001b[0;36m1\u001b[0m\u001b[0;34m)\u001b[0m\u001b[0;34m\u001b[0m\u001b[0;34m\u001b[0m\u001b[0m\n\u001b[0;32m----> 3\u001b[0;31m \u001b[0mprint\u001b[0m\u001b[0;34m(\u001b[0m\u001b[0my_pred\u001b[0m\u001b[0;34m.\u001b[0m\u001b[0mmode\u001b[0m\u001b[0;34m(\u001b[0m\u001b[0;34m)\u001b[0m\u001b[0;34m)\u001b[0m\u001b[0;34m\u001b[0m\u001b[0;34m\u001b[0m\u001b[0m\n\u001b[0m\u001b[1;32m      4\u001b[0m \u001b[0;31m#y_pred = np.argmax(y_pred,axis=-1)\u001b[0m\u001b[0;34m\u001b[0m\u001b[0;34m\u001b[0m\u001b[0;34m\u001b[0m\u001b[0m\n\u001b[1;32m      5\u001b[0m \u001b[0;31m#label = np.argmax(y_pred,axis=-1)\u001b[0m\u001b[0;34m\u001b[0m\u001b[0;34m\u001b[0m\u001b[0;34m\u001b[0m\u001b[0m\n",
      "\u001b[0;31mAttributeError\u001b[0m: 'numpy.ndarray' object has no attribute 'mode'"
     ]
    }
   ],
   "source": [
    "y_pred=model1.predict(X_test)\n",
    "y_pred=y_pred.argmax(axis=1)\n",
    "print(y_pred)\n",
    "#y_pred = np.argmax(y_pred,axis=-1)\n",
    "#label = np.argmax(y_pred,axis=-1)\n",
    "#print(label)\n"
   ]
  },
  {
   "cell_type": "code",
   "execution_count": 15,
   "id": "b3f062ea",
   "metadata": {},
   "outputs": [
    {
     "name": "stdout",
     "output_type": "stream",
     "text": [
      "              precision    recall  f1-score   support\n",
      "\n",
      "           0       0.45      0.17      0.24        60\n",
      "           1       0.37      0.28      0.32        60\n",
      "           2       0.23      0.78      0.36        60\n",
      "           3       0.28      0.08      0.13        60\n",
      "           4       0.36      0.07      0.11        60\n",
      "\n",
      "    accuracy                           0.28       300\n",
      "   macro avg       0.34      0.28      0.23       300\n",
      "weighted avg       0.34      0.28      0.23       300\n",
      "\n",
      "   accuracy  precision    recall        f1\n",
      "0  0.276667   0.276667  0.276667  0.276667\n"
     ]
    }
   ],
   "source": [
    "import pandas as pd\n",
    "from sklearn.metrics import classification_report, accuracy_score,precision_score,recall_score\n",
    "from sklearn.metrics import f1_score, roc_auc_score\n",
    "\n",
    "cr=classification_report(y_test,y_pred)\n",
    "print(cr)\n",
    "\n",
    "score_df=pd.DataFrame({'accuracy':accuracy_score(y_test,y_pred),\n",
    "                      'precision':precision_score(y_test,y_pred,average='micro'),\n",
    "                      'recall':recall_score(y_test,y_pred,average='micro'),\n",
    "                      'f1':f1_score(y_test,y_pred,average='micro')},\n",
    "                     index=pd.Index([0]))\n",
    "print(score_df)"
   ]
  },
  {
   "cell_type": "code",
   "execution_count": null,
   "id": "f65bab04",
   "metadata": {},
   "outputs": [],
   "source": [
    "import seaborn as sns\n",
    "from sklearn.metrics import roc_curve, precision_recall_curve, confusion_matrix, ConfusionMatrixDisplay\n",
    "sns.set_context('talk')\n",
    "cm=confusion_matrix(y_test,y_pred,normalize='true')\n",
    "disp=ConfusionMatrixDisplay(confusion_matrix=cm,display_labels=[0,1,2,3,4])\n",
    "disp.plot()\n",
    "plt.show()"
   ]
  }
 ],
 "metadata": {
  "kernelspec": {
   "display_name": "Python 3",
   "language": "python",
   "name": "python3"
  },
  "language_info": {
   "codemirror_mode": {
    "name": "ipython",
    "version": 3
   },
   "file_extension": ".py",
   "mimetype": "text/x-python",
   "name": "python",
   "nbconvert_exporter": "python",
   "pygments_lexer": "ipython3",
   "version": "3.6.8"
  }
 },
 "nbformat": 4,
 "nbformat_minor": 5
}
